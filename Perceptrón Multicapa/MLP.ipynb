{
 "cells": [
  {
   "cell_type": "code",
   "execution_count": 2,
   "metadata": {
    "dotnet_interactive": {
     "language": "csharp"
    },
    "polyglot_notebook": {
     "kernelName": "csharp"
    }
   },
   "outputs": [],
   "source": [
    "import pandas as pd\n",
    "import numpy as np\n",
    "import matplotlib.pyplot as plt"
   ]
  },
  {
   "cell_type": "code",
   "execution_count": 3,
   "metadata": {},
   "outputs": [],
   "source": [
    "#Importar el database\n",
    "cancer=pd.read_csv('breast-cancer.csv')\n",
    "\n",
    "#Ordenar database de acuerdo a diagnosis (Benigno, Maligno)\n",
    "cancer = cancer.sort_values(by='diagnosis')\n",
    "\n",
    "#Seleccionar los datos que necesitamos de Benigno\n",
    "Benigno = cancer.iloc[0:70,[2,3,4,1]]\n",
    "\n",
    "#Reemplazamos los datos por 1 la salida Benigno (B)\n",
    "Benigno.diagnosis=Benigno.diagnosis.str.strip()\n",
    "Benigno.loc[Benigno.diagnosis=='B','diagnosis']=0\n",
    "\n",
    "#Obtenemos los 20 primeros datos con salida Benigno (0)\n",
    "MatrizEntrenamientoB=Benigno.iloc[0:20,0:Benigno.columns.size].values\n",
    "\n",
    "#Obtenemos los 50 datos restantes con salida Benigno (0)\n",
    "MatrizValidacionB=Benigno.iloc[20:70,0:Benigno.columns.size].values\n",
    "\n",
    "#Seleccionar los datos que necesitamos de Maligno\n",
    "Maligno=cancer.iloc[358:428,[2,3,4,1]]\n",
    "\n",
    "#Reemplazamos los datos por 0 la salida Maligno (M)\n",
    "Maligno.diagnosis=Maligno.diagnosis.str.strip()\n",
    "Maligno.loc[Maligno.diagnosis=='M','diagnosis']=1\n",
    "\n",
    "#Obtenemos los 20 primeros datos con salida Maligno (1)\n",
    "MatrizEntrenamientoM=Maligno.iloc[0:20,0:Maligno.columns.size].values\n",
    "\n",
    "#Obtenemos los 50 datos restantes con salida Maligno (1)\n",
    "MatrizValidacionM=Maligno.iloc[20:70,0:Maligno.columns.size].values\n",
    "\n",
    "#Concatenar las matrices resultantes\n",
    "MatrizEntrenamiento=np.concatenate((MatrizEntrenamientoB, MatrizEntrenamientoM))\n",
    "MatrizValidacion=np.concatenate((MatrizValidacionB,MatrizValidacionM))"
   ]
  },
  {
   "cell_type": "markdown",
   "metadata": {},
   "source": [
    "# Separar los datos para entrenamiento y validación"
   ]
  },
  {
   "cell_type": "code",
   "execution_count": 4,
   "metadata": {},
   "outputs": [],
   "source": [
    "#Obtener matriz con únicamente las entradas\n",
    "def SepararEntradas(Matriz):\n",
    "    MatrizEntradas = np.delete(Matriz,-1,axis=1)\n",
    "    MatrizEntradas = MatrizEntradas.astype(float)\n",
    "    return MatrizEntradas\n",
    "\n",
    "#Obtener matriz con únicamente las salidas\n",
    "def SepararSalidas(Matriz):\n",
    "    MatrizSalidas = np.array([fila[3] for fila in Matriz])\n",
    "    return MatrizSalidas\n",
    "\n",
    "#Separamos las entradas y las salidas en matrices diferentes\n",
    "EntradasEnt = SepararEntradas(MatrizEntrenamiento)\n",
    "SalidasEnt = SepararSalidas(MatrizEntrenamiento)\n",
    "\n",
    "EntradasVal = SepararEntradas(MatrizValidacion)\n",
    "SalidasVal = SepararSalidas(MatrizValidacion)\n",
    "\n",
    "#Guardamos en variables el número de filas y columnas\n",
    "FilaEntE,ColumnaEntE = EntradasEnt.shape\n",
    "FilaValE,ColumnaValE = EntradasVal.shape\n",
    "\n",
    "ColumnaEntS = SalidasEnt.shape\n",
    "ColumnaValS = SalidasVal.shape"
   ]
  },
  {
   "cell_type": "markdown",
   "metadata": {},
   "source": [
    "# Funciones"
   ]
  },
  {
   "cell_type": "code",
   "execution_count": 5,
   "metadata": {},
   "outputs": [],
   "source": [
    "#Función sigmoide\n",
    "def sigmoide(x):\n",
    "    return 1/(1+np.exp(-x))\n",
    "\n",
    "#Derivada de la sigmoide\n",
    "def DerSigmoide(x):\n",
    "    s = 1/(1+np.exp(-x))\n",
    "    return s * (1-s)"
   ]
  },
  {
   "cell_type": "markdown",
   "metadata": {},
   "source": [
    "# Globalización de variables"
   ]
  },
  {
   "cell_type": "code",
   "execution_count": 6,
   "metadata": {},
   "outputs": [],
   "source": [
    "class PerceptronMulticapa():\n",
    "    def __init__ (self, NeuEntrada, NeuSalida, PesoW1, PesoW2, ValBiaslSalida, ValBiasNeuOculta, PrecisionInicial, NumEpocas, FactorAprendizaje, NumEntradas, NeuCapaOculta):\n",
    "        self.NeuEntrada = np.transpose(NeuEntrada)\n",
    "        self.NeuSalida = NeuSalida\n",
    "        self.PesoW1 = PesoW1\n",
    "        self.PesoW2 = PesoW2\n",
    "        self.ValBiaslSalida = ValBiaslSalida\n",
    "        self.ValBiasNeuOculta = ValBiasNeuOculta\n",
    "        self.PrecisionInicial = PrecisionInicial\n",
    "        self.NumEpocas = NumEpocas\n",
    "        self.FactorAprendizaje = FactorAprendizaje\n",
    "        self.NumEntradas = NumEntradas\n",
    "        self.NeuCapaOculta = NeuCapaOculta\n",
    "\n",
    "        self.SalidaDeseada = 0\n",
    "        self.ErrorTotalIteraciones = 1\n",
    "        self.ErrorCuaMedio = 0\n",
    "        self.ErrorAnterior = 0\n",
    "        self.MatrizErrores = []\n",
    "        self.ErrorActual = np.zeros((len(NeuSalida)))\n",
    "        self.EntradasEnCeros = np.zeros((1,NumEntradas))\n",
    "        self.PotencialActivacionNeuOcultas = np.zeros((NeuCapaOculta,1))\n",
    "        self.FuncionActivacionNeuOcultas = np.zeros((NeuCapaOculta,1))\n",
    "        self.PotencialActivacionNeuSalida = 0.0\n",
    "        self.FuncionActivacionNeuSalida = 0.0\n",
    "        self.ContadorEpocas = 0\n",
    "\n",
    "        self.ErrorReal = 0\n",
    "        self.DeltaSalida = 0.0\n",
    "        self.DeltaNeuOculta = np.zeros((NeuCapaOculta,1))\n",
    "\n",
    "    def Entrenamiento(self):\n",
    "        MatrizErrores = []\n",
    "        while(np.abs(self.ErrorTotalIteraciones) > self.PrecisionInicial):\n",
    "            self.ErrorAnterior = self.ErrorCuaMedio\n",
    "            for i in range(len(self.NeuSalida)):\n",
    "                self.EntradasEnCeros = self.NeuEntrada[:,i]\n",
    "                self.SalidaDeseada = self.NeuSalida[i]\n",
    "                self.Propagation()\n",
    "                self.BackPropagation()\n",
    "                self.Propagation()\n",
    "                self.ErrorActual[i] = (0.5)*((self.SalidaDeseada - self.FuncionActivacionNeuSalida)**2)\n",
    "            self.Error()\n",
    "            MatrizErrores.append(self.ErrorTotalIteraciones)\n",
    "            self.ContadorEpocas +=1\n",
    "            if self.ContadorEpocas > self.NumEpocas:\n",
    "                break\n",
    "        return self.ContadorEpocas, self.PesoW1, self.PesoW2, self.ValBiaslSalida, self.ValBiasNeuOculta, MatrizErrores\n",
    "\n",
    "    def Propagation(self):\n",
    "        #Operar en la primera capa\n",
    "        for i in range(self.NeuCapaOculta):\n",
    "            self.PotencialActivacionNeuOcultas[i,:] = np.dot(self.PesoW1[i,:], self.EntradasEnCeros) + self.ValBiasNeuOculta[i,:]\n",
    "        \n",
    "        #Cálculo de la activación de las neuronas en la capa oculta\n",
    "        for j in range(self.NeuCapaOculta):\n",
    "            self.FuncionActivacionNeuOcultas[j,:] = sigmoide(self.PotencialActivacionNeuOcultas[j,:])\n",
    "\n",
    "        #Cálculo del potencial de activación de la neurona de salida\n",
    "        self.PotencialActivacionNeuSalida = (np.dot(self.PesoW2,self.FuncionActivacionNeuOcultas)+ self.ValBiaslSalida)\n",
    "\n",
    "        #Cálculo de salida de la neurona de salida\n",
    "        self.FuncionActivacionNeuSalida = sigmoide(self.PotencialActivacionNeuSalida)\n",
    "\n",
    "    def BackPropagation(self):\n",
    "        #Calcular error\n",
    "        self.ErrorReal = (self.SalidaDeseada - self.FuncionActivacionNeuSalida)\n",
    "        \n",
    "        self.DeltaSalida = (DerSigmoide (self.PotencialActivacionNeuSalida) * self.ErrorReal)\n",
    "\n",
    "        self.PesoW2 = self.PesoW2 + (np.transpose(self.FuncionActivacionNeuOcultas) * self.FactorAprendizaje * self.DeltaSalida)\n",
    "\n",
    "        self.ValBiaslSalida = self.ValBiaslSalida + (self.FactorAprendizaje * self.DeltaSalida)\n",
    "\n",
    "        self.DeltaNeuOculta = DerSigmoide(self.PotencialActivacionNeuOcultas) * np.transpose(self.PesoW2) * self.DeltaSalida\n",
    "\n",
    "        for i in range(self.NumEntradas):\n",
    "            self.PesoW1[i,:] = self.PesoW1[i,:] + ((self.DeltaNeuOculta[i,:]) * self.EntradasEnCeros * self.FactorAprendizaje)\n",
    "        \n",
    "        for j in range(self.NumEntradas):\n",
    "            self.ValBiasNeuOculta[j,:] = self.ValBiasNeuOculta[j,:] + (self.FactorAprendizaje * self.DeltaNeuOculta[j,:])\n",
    "\n",
    "    def Error(self):\n",
    "        self.ErrorCuaMedio = ((1/len(self.NeuSalida)) * (sum(self.ErrorActual)))\n",
    "        self.ErrorTotalIteraciones = (self.ErrorCuaMedio - self.ErrorAnterior)\n",
    "    \n",
    "    def Validacion(self):\n",
    "        MatrizInterna = np.zeros((len(self.NeuSalida),1))\n",
    "        for i in range(len(self.NeuSalida)):\n",
    "            self.EntradasEnCeros = self.NeuEntrada[:,i]\n",
    "            self.Propagation()\n",
    "            MatrizInterna[i,:] = self.FuncionActivacionNeuSalida\n",
    "        return MatrizInterna.tolist()\n"
   ]
  },
  {
   "cell_type": "code",
   "execution_count": 7,
   "metadata": {},
   "outputs": [],
   "source": [
    "def NumColumnas (NumColumnas):\n",
    "    return NumColumnas\n",
    "\n",
    "def Matriz(Matriz):\n",
    "    return Matriz"
   ]
  },
  {
   "cell_type": "code",
   "execution_count": 8,
   "metadata": {},
   "outputs": [],
   "source": [
    "ContNeuCapaEntrada = NumColumnas(ColumnaEntE)\n",
    "ContNeuCapaOculta = NumColumnas(ContNeuCapaEntrada)\n",
    "ContNeuSalida = 1\n",
    "\n",
    "MatrizEntradas = Matriz(EntradasEnt)\n",
    "MatrizSalidas = Matriz(SalidasEnt)\n",
    "\n",
    "factorAprendizaje = 0.05\n",
    "precisionInicial = 0.0001\n",
    "NumEpocas = 1000\n",
    "\n",
    "ErrorTotalIteraciones = 1\n",
    "SalidaDeseada = 0\n",
    "PotencialActivacionNeuSalida = 0.0\n",
    "FuncionActivacionNeuSalida = 0.0\n",
    "ErrorReal = 0\n",
    "contadorEpocas = 0\n",
    "\n",
    "ValBiaslSalida = 1.0\n",
    "ValBiasNeuOculta = np.ones((ContNeuCapaOculta,1),float)\n",
    "\n",
    "np.random.seed(0)\n",
    "PesoW1 = np.random.rand(ContNeuCapaOculta,ContNeuCapaEntrada)\n",
    "PesoW2 = np.random.rand(ContNeuSalida,ContNeuCapaOculta) "
   ]
  },
  {
   "cell_type": "code",
   "execution_count": 9,
   "metadata": {},
   "outputs": [
    {
     "data": {
      "text/plain": [
       "'\\nxi = matriz con solo entradas == self.NeuEntrada\\nd = salidas == self.NeuSalida\\nw_1 = pesos entradas == PesoW1\\nw_2 = pesos oculta == PesoW2\\nus = Bias salida == ValBiaslSalida\\nuoc = Bias salida de capa oculta == ValBiasNeuOculta\\nprecision == precisionInicial\\nepocas = epocas máximas == NumEpocas\\nfac_ap = factor aprendizaje == factorAprendizaje\\nn_ocultas == NeucapaOculta\\nn_entradas = numero entradas == NumEntradas\\nn_salida = ColumnaSalida == NumSalidas\\n---------------------------------\\ndi = salida deseada en iteacción actual == SalidaDeseada\\nerror_red = Error total de la red en una conjunto de iteraciones == ErrorTotalIteraciones\\new = Error cuadratico medio == ErrorCuaMedio\\nerror_prev = Error anterior == ErrorAnterior\\nerrores == MatrizErrores\\nerror_actual = Errores acumulados en un ciclo de muestras == ErrorActual\\nentradas == EntradasEnCeros\\nun = Potencial de activacion en neuronas ocultas == PotencialActivacionNeuOcultas\\ngu = Funcion de activacion de neuronas ocultas == FuncionActivacionNeuOcultas\\nY = Potencial de activacion en neurona de salida == PotencialActivacionNeuSalida\\ny = Funcion de activacion en neurona de salida == FuncionActivacionNeuSalida\\nepochs == contadorEpocas\\nerror_real = variable de backprop == ErrorReal\\nds = delta de salida == DeltaSalida\\ndocu = Deltas en neuronas ocultas == DeltaNeuOculta\\n'"
      ]
     },
     "execution_count": 9,
     "metadata": {},
     "output_type": "execute_result"
    }
   ],
   "source": [
    "\"\"\"\n",
    "xi = matriz con solo entradas == self.NeuEntrada\n",
    "d = salidas == self.NeuSalida\n",
    "w_1 = pesos entradas == PesoW1\n",
    "w_2 = pesos oculta == PesoW2\n",
    "us = Bias salida == ValBiaslSalida\n",
    "uoc = Bias salida de capa oculta == ValBiasNeuOculta\n",
    "precision == precisionInicial\n",
    "epocas = epocas máximas == NumEpocas\n",
    "fac_ap = factor aprendizaje == factorAprendizaje\n",
    "n_ocultas == NeucapaOculta\n",
    "n_entradas = numero entradas == NumEntradas\n",
    "n_salida = ColumnaSalida == NumSalidas\n",
    "---------------------------------\n",
    "di = salida deseada en iteacción actual == SalidaDeseada\n",
    "error_red = Error total de la red en una conjunto de iteraciones == ErrorTotalIteraciones\n",
    "ew = Error cuadratico medio == ErrorCuaMedio\n",
    "error_prev = Error anterior == ErrorAnterior\n",
    "errores == MatrizErrores\n",
    "error_actual = Errores acumulados en un ciclo de muestras == ErrorActual\n",
    "entradas == EntradasEnCeros\n",
    "un = Potencial de activacion en neuronas ocultas == PotencialActivacionNeuOcultas\n",
    "gu = Funcion de activacion de neuronas ocultas == FuncionActivacionNeuOcultas\n",
    "Y = Potencial de activacion en neurona de salida == PotencialActivacionNeuSalida\n",
    "y = Funcion de activacion en neurona de salida == FuncionActivacionNeuSalida\n",
    "epochs == contadorEpocas\n",
    "error_real = variable de backprop == ErrorReal\n",
    "ds = delta de salida == DeltaSalida\n",
    "docu = Deltas en neuronas ocultas == DeltaNeuOculta\n",
    "\"\"\""
   ]
  },
  {
   "cell_type": "code",
   "execution_count": 10,
   "metadata": {},
   "outputs": [
    {
     "name": "stderr",
     "output_type": "stream",
     "text": [
      "/var/folders/gb/wfk4p99n0yq3bsqnky4s7vfr0000gn/T/ipykernel_9166/1989338532.py:42: DeprecationWarning: Conversion of an array with ndim > 0 to a scalar is deprecated, and will error in future. Ensure you extract a single element from your array before performing this operation. (Deprecated NumPy 1.25.)\n",
      "  self.ErrorActual[i] = (0.5)*((self.SalidaDeseada - self.FuncionActivacionNeuSalida)**2)\n"
     ]
    }
   ],
   "source": [
    "percetron = PerceptronMulticapa(MatrizEntradas,MatrizSalidas,PesoW1,PesoW2,ValBiaslSalida, ValBiasNeuOculta, precisionInicial, NumEpocas, factorAprendizaje, ContNeuCapaOculta, ContNeuCapaEntrada)\n",
    "contadorEpocas,PesoW1_a,PesoW2_a,ValBiaslSalida_a,ValBiasNeuOculta_a,E = percetron.Entrenamiento()"
   ]
  },
  {
   "cell_type": "code",
   "execution_count": 11,
   "metadata": {},
   "outputs": [
    {
     "data": {
      "image/png": "[encoded data removed]",
      "text/plain": [
       "<Figure size 640x480 with 1 Axes>"
      ]
     },
     "metadata": {},
     "output_type": "display_data"
    }
   ],
   "source": [
    "plt.grid()\n",
    "plt.ylabel(\"Error de la red\",fontsize=12)\n",
    "plt.xlabel(\"Épocas\",fontsize=12)\n",
    "plt.title(\"Perceptrón Multicapa\",fontsize=14)\n",
    "x = np.arange(contadorEpocas)\n",
    "plt.plot(x,E,'b',label=\"Error global\")\n",
    "plt.legend()\n",
    "plt.show()"
   ]
  },
  {
   "cell_type": "code",
   "execution_count": 12,
   "metadata": {},
   "outputs": [],
   "source": [
    "MatrizEntradas = Matriz(EntradasVal)\n",
    "MatrizSalidas = Matriz(SalidasVal)\n",
    "percetron = PerceptronMulticapa(MatrizEntradas,MatrizSalidas,PesoW1,PesoW2,ValBiaslSalida, ValBiasNeuOculta, precisionInicial, NumEpocas, factorAprendizaje, ContNeuCapaOculta, ContNeuCapaEntrada)"
   ]
  },
  {
   "cell_type": "code",
   "execution_count": 13,
   "metadata": {},
   "outputs": [
    {
     "name": "stdout",
     "output_type": "stream",
     "text": [
      "Salidas:  [[0.9372658774281384], [0.9372658774281384], [0.9372658774281384], [0.9372658774281384], [0.9372658774281384], [0.9372658774281384], [0.9372658774281384], [0.9372658774281384], [0.9372658774281384], [0.9372658774281384], [0.9372658774281384], [0.9372658774281384], [0.9372658774281384], [0.9372658774281384], [0.9372658774281384], [0.9372658774281384], [0.9372658774281384], [0.9372658774281384], [0.9372658774281384], [0.9372658774281384], [0.9372658774281384], [0.9372658774281384], [0.9372658774281384], [0.9372658774281384], [0.9372658774281384], [0.9372658774281384], [0.9372658774281384], [0.9372658774281384], [0.9372658774281384], [0.9372658774281384], [0.9372658774281384], [0.9372658774281384], [0.9372658774281384], [0.9372658774281384], [0.9372658774281384], [0.9372658774281384], [0.9372658774281384], [0.9372658774281384], [0.9372658774281384], [0.9372658774281384], [0.9372658774281384], [0.9372658774281384], [0.9372658774281384], [0.9372658774281384], [0.9372658774281384], [0.9372658774281384], [0.9372658774281384], [0.9372658774281384], [0.9372658774281384], [0.9372658774281384], [0.9372658774281384], [0.9372658774281384], [0.9372658774281384], [0.9372658774281384], [0.9372658774281384], [0.9372658774281384], [0.9372658774281384], [0.9372658774281384], [0.9372658774281384], [0.9372658774281384], [0.9372658774281384], [0.9372658774281384], [0.9372658774281384], [0.9372658774281384], [0.9372658774281384], [0.9372658774281384], [0.9372658774281384], [0.9372658774281384], [0.9372658774281384], [0.9372658774281384], [0.9372658774281384], [0.9372658774281384], [0.9372658774281384], [0.9372658774281384], [0.9372658774281384], [0.9372658774281384], [0.9372658774281384], [0.9372658774281384], [0.9372658774281384], [0.9372658774281384], [0.9372658774281384], [0.9372658774281384], [0.9372658774281384], [0.9372658774281384], [0.9372658774281384], [0.9372658774281384], [0.9372658774281384], [0.9372658774281384], [0.9372658774281384], [0.9372658774281384], [0.9372658774281384], [0.9372658774281384], [0.9372658774281384], [0.9372658774281384], [0.9372658774281384], [0.9372658774281384], [0.9372658774281384], [0.9372658774281384], [0.9372658774281384], [0.9372658774281384]]\n"
     ]
    }
   ],
   "source": [
    "salidas = percetron.Validacion()\n",
    "print(\"Salidas: \",salidas)\n",
    "#asd = np.array(salidas)\n",
    "#asd.shape"
   ]
  }
 ],
 "metadata": {
  "kernelspec": {
   "display_name": "Python 3",
   "language": "python",
   "name": "python3"
  },
  "language_info": {
   "codemirror_mode": {
    "name": "ipython",
    "version": 3
   },
   "file_extension": ".py",
   "mimetype": "text/x-python",
   "name": "python",
   "nbconvert_exporter": "python",
   "pygments_lexer": "ipython3",
   "version": "3.12.1"
  },
  "orig_nbformat": 4,
  "polyglot_notebook": {
   "kernelInfo": {
    "defaultKernelName": "csharp",
    "items": [
     {
      "aliases": [],
      "name": "csharp"
     }
    ]
   }
  }
 },
 "nbformat": 4,
 "nbformat_minor": 2
}
